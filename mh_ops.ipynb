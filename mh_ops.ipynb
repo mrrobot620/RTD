{
 "cells": [
  {
   "cell_type": "code",
   "execution_count": 31,
   "metadata": {},
   "outputs": [
    {
     "name": "stdout",
     "output_type": "stream",
     "text": [
      "Cross Button Failed\n",
      "wdqcsadD-9mAdbrHptnA2mcjiPKgy_gY0gPk\n",
      "[{'domain': '10.24.1.71', 'expiry': 1742395623, 'httpOnly': False, 'name': '_ga_SV3K9FT76Q', 'path': '/', 'sameSite': 'Lax', 'secure': False, 'value': 'GS1.1.1707835620.1.1.1707835623.0.0.0'}, {'domain': '10.24.1.71', 'expiry': 1707922019, 'httpOnly': True, 'name': 'session', 'path': '/', 'sameSite': 'Lax', 'secure': False, 'value': 'eyJtaC1vcHMiOnsiX19jdXJyZW50VVJMIjoiL21oLW9wcyIsInN0YXRlIjoiZWNiNDI5NmYtNWI4ZS00MjhiLTliNmUtYmE4YzAxMzk3ZWNkIiwibm9uY2UiOiIwMjU1NjYxMS00ZGZjLTRmZjQtOWRiMC1hOThhMjI0MDFmZTEiLCJ1c2VyIjp7InN1YiI6ImNhLjI2NzAwNTQiLCJuYW1lIjoiY2EuMjY3MDA1NCIsInVzZXJJZCI6ImNhLjI2NzAwNTQifSwiZXhwIjoxNzA3OTE4NDE5NzE5fSwiY3NyZlNlY3JldCI6IlQ2b0c2WG5yRjB2eWEtd2NHQllNU19PXyJ9'}, {'domain': '10.24.1.71', 'expiry': 1742395620, 'httpOnly': False, 'name': '_ga', 'path': '/', 'sameSite': 'Lax', 'secure': False, 'value': 'GA1.1.1352220609.1707835620'}, {'domain': '10.24.1.71', 'expiry': 1707922019, 'httpOnly': True, 'name': 'session.sig', 'path': '/', 'sameSite': 'Lax', 'secure': False, 'value': '0uy5rpR69mX8zqC5tKVujM41QUI'}, {'domain': '10.24.1.71', 'expiry': 1707836519, 'httpOnly': False, 'name': 'GROUPS_COOKIE_SET', 'path': '/', 'sameSite': 'Lax', 'secure': False, 'value': 'true'}, {'domain': '10.24.1.71', 'expiry': 1739371609, 'httpOnly': False, 'name': 'epoctime', 'path': '/', 'sameSite': 'Lax', 'secure': False, 'value': '1707835609.798'}, {'domain': '10.24.1.71', 'expiry': 1739371609, 'httpOnly': False, 'name': 'ab', 'path': '/', 'sameSite': 'Lax', 'secure': False, 'value': 'prodcluster'}]\n",
      "Mozilla/5.0 (X11; Linux x86_64) AppleWebKit/537.36 (KHTML, like Gecko) Chrome/119.0.0.0 Safari/537.36\n",
      "{\"status\":200,\"message\":\"Success\",\"data\":{\"shipments_details\":[{\"shipment_id\":\"OIPC0014533918\",\"tier_type\":\"ECONOMY\",\"type\":\"COD\",\"reverse_shipment_id\":null,\"forward_reverse_type\":\"NORMAL_FORWARD\",\"total_price\":\"599.0\",\"delivery_pincode\":\"756038\",\"status\":\"Expected\",\"delivery_hub\":\"BhograiHub_JER\",\"current_hub\":\"Motherhub_ULB\",\"customer_promise_date\":\"2024-02-16 11:30:00\",\"logistics_promise_date\":\"2024-02-16 11:30:00\",\"latest_update_time\":\"2024-02-13 19:52:03\",\"first_receive_time\":\"2024-02-13 14:32:07\",\"first_receive_hub\":\"MotherHub_YKB\",\"last_receive_time\":\"2024-02-13 16:17:26\",\"first_assigned_hub\":\"BhograiHub_JER\",\"number_of_attempts\":\"0\",\"cs_notes\":null,\"hub_notes\":null,\"on_hold_by_ops_reason\":null,\"on_hold_by_ops_date\":null,\"bag_id\":null,\"bag_status\":null,\"shipment_items\":[{\"order_id\":\"4881859677FHH\",\"item_description\":\"Enlarge Oil Pure and Natural ( Pack of 2)\"}]}],\"shipment_to_container\":{\"OIPC0014533918\":{\"container_external_id\":\"ECCUULB-6258945-1527\",\"status\":\"IN_TRANSIT\",\"consignment_id\":\"146479161\"}}}}\n"
     ]
    }
   ],
   "source": [
    "from selenium import webdriver\n",
    "from selenium.webdriver.common.keys import Keys\n",
    "from selenium.webdriver.common.by import By\n",
    "from selenium.webdriver.chrome.options import Options\n",
    "from selenium.webdriver.support.ui import Select\n",
    "from selenium.webdriver.support.ui import WebDriverWait\n",
    "from selenium.webdriver.common.by import By\n",
    "from selenium.webdriver.support import expected_conditions as EC3\n",
    "from selenium.webdriver.common.action_chains import ActionChains\n",
    "from concurrent.futures import ThreadPoolExecutor\n",
    "from requests.adapters import HTTPAdapter\n",
    "import requests\n",
    "import time\n",
    "from requests_html import HTMLSession\n",
    "\n",
    "op = webdriver.ChromeOptions()\n",
    "# op.add_argument('--headless=new')\n",
    "prefs = {\n",
    "    'profile.default_content_settings.popups': 0,\n",
    "    'download.default_directory' : r\"/home/administrator/cbs_bag_hold/data\",\n",
    "    'directory_upgrade': True\n",
    "}\n",
    "op.add_experimental_option('prefs' , prefs)\n",
    "driver = webdriver.Chrome(options=op)\n",
    "\n",
    "\n",
    "session = HTMLSession()\n",
    "\n",
    "\n",
    "def login_flo():\n",
    "    driver.get(\"http://10.24.1.71/mh-ops\")\n",
    "    time.sleep(5)\n",
    "    username = driver.find_element(By.XPATH , \"/html/body/div[2]/div[2]/div/div/form/div/div[4]/input[1]\")\n",
    "    username.send_keys(\"ca.2670054\")\n",
    "\n",
    "    password = driver.find_element(By.XPATH , \"/html/body/div[2]/div[2]/div/div/form/div/div[4]/input[2]\")\n",
    "    password.send_keys(\"Chauhan@8091\")\n",
    "    time.sleep(2)\n",
    "    try:\n",
    "        cross = driver.find_element(By.XPATH , \"/html/body/div[4]/div/button\")\n",
    "        cross.click()\n",
    "    except:\n",
    "        print(\"Cross Button Failed\")\n",
    "    time.sleep(1)\n",
    "    submit = driver.find_element(By.XPATH , \"/html/body/div[2]/div[2]/div/div/form/div/div[4]/div[4]/button/span\")\n",
    "    submit.click()\n",
    "    time.sleep(10)\n",
    "\n",
    "login_flo()\n",
    "session_cookie = driver.get_cookies()\n",
    "csrf_token = driver.execute_script(\"return document.querySelector('meta[name=csrf-token]').getAttribute('content');\")\n",
    "\n",
    "if csrf_token:\n",
    "    session.headers.update({\"csrf-token\": csrf_token})\n",
    "    print(csrf_token)\n",
    "else:\n",
    "    print(\"CSRF Token not found in page\")\n",
    "print(session_cookie)\n",
    "selenium_user_agent = driver.execute_script(\"return navigator.userAgent;\")\n",
    "print(selenium_user_agent)\n",
    "session.headers.update({\"user-agent\": selenium_user_agent})\n",
    "for cookie in driver.get_cookies():\n",
    "    session.cookies.set(cookie['name'], cookie['value'], domain=cookie['domain']) # Can't is set this here\n",
    "   \n",
    "payload = {'shipment_ids': [\"OIPC0014533918\", \"shipment2\"]} \n",
    "url = \"http://10.24.1.71/mh-ops-routes-api/mh-ops-proxy/v1/track-and-trace-proxy/shipment/bulk-track/generate-request-id\"\n",
    "response = session.post(url , json=payload)\n",
    "\n",
    "if response.status_code == 200:\n",
    "    # Access and print the response content\n",
    "    print(response.text)\n",
    "else:\n",
    "    # Print an error message if the request was not successful\n",
    "    print(f\"Request failed with status code {response.status_code}\")\n"
   ]
  },
  {
   "cell_type": "code",
   "execution_count": null,
   "metadata": {},
   "outputs": [],
   "source": []
  },
  {
   "cell_type": "code",
   "execution_count": null,
   "metadata": {},
   "outputs": [],
   "source": []
  }
 ],
 "metadata": {
  "kernelspec": {
   "display_name": "Python 3",
   "language": "python",
   "name": "python3"
  },
  "language_info": {
   "codemirror_mode": {
    "name": "ipython",
    "version": 3
   },
   "file_extension": ".py",
   "mimetype": "text/x-python",
   "name": "python",
   "nbconvert_exporter": "python",
   "pygments_lexer": "ipython3",
   "version": "3.8.10"
  }
 },
 "nbformat": 4,
 "nbformat_minor": 2
}
